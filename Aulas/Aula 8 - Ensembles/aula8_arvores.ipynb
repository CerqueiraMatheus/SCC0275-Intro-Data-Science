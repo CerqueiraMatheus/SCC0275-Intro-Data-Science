{
 "cells": [
  {
   "cell_type": "code",
   "execution_count": 50,
   "id": "ab6a4853-c60c-4319-aa7e-c63823ac3089",
   "metadata": {},
   "outputs": [],
   "source": [
    "import numpy as np\n",
    "import pandas as pd\n",
    "\n",
    "from sklearn.tree import (\n",
    "    DecisionTreeClassifier, \n",
    "    DecisionTreeRegressor, \n",
    "    plot_tree\n",
    ")\n",
    "from sklearn.preprocessing import OrdinalEncoder\n",
    "from sklearn.datasets import load_iris\n",
    "from sklearn.model_selection import train_test_split"
   ]
  },
  {
   "cell_type": "markdown",
   "id": "ca9ed458-88df-4833-9b7f-55b0603f6245",
   "metadata": {
    "tags": []
   },
   "source": [
    "## Classificação"
   ]
  },
  {
   "cell_type": "code",
   "execution_count": 19,
   "id": "438fb1b1-9975-4387-b56b-fcf91a83052a",
   "metadata": {},
   "outputs": [
    {
     "data": {
      "text/html": [
       "<div>\n",
       "<style scoped>\n",
       "    .dataframe tbody tr th:only-of-type {\n",
       "        vertical-align: middle;\n",
       "    }\n",
       "\n",
       "    .dataframe tbody tr th {\n",
       "        vertical-align: top;\n",
       "    }\n",
       "\n",
       "    .dataframe thead th {\n",
       "        text-align: right;\n",
       "    }\n",
       "</style>\n",
       "<table border=\"1\" class=\"dataframe\">\n",
       "  <thead>\n",
       "    <tr style=\"text-align: right;\">\n",
       "      <th></th>\n",
       "      <th>outlook</th>\n",
       "      <th>temp</th>\n",
       "      <th>humidity</th>\n",
       "      <th>windy</th>\n",
       "      <th>play</th>\n",
       "    </tr>\n",
       "  </thead>\n",
       "  <tbody>\n",
       "    <tr>\n",
       "      <th>0</th>\n",
       "      <td>sunny</td>\n",
       "      <td>hot</td>\n",
       "      <td>high</td>\n",
       "      <td>False</td>\n",
       "      <td>no</td>\n",
       "    </tr>\n",
       "    <tr>\n",
       "      <th>1</th>\n",
       "      <td>sunny</td>\n",
       "      <td>hot</td>\n",
       "      <td>high</td>\n",
       "      <td>True</td>\n",
       "      <td>no</td>\n",
       "    </tr>\n",
       "    <tr>\n",
       "      <th>2</th>\n",
       "      <td>overcast</td>\n",
       "      <td>hot</td>\n",
       "      <td>high</td>\n",
       "      <td>False</td>\n",
       "      <td>yes</td>\n",
       "    </tr>\n",
       "  </tbody>\n",
       "</table>\n",
       "</div>"
      ],
      "text/plain": [
       "    outlook temp humidity  windy play\n",
       "0     sunny  hot     high  False   no\n",
       "1     sunny  hot     high   True   no\n",
       "2  overcast  hot     high  False  yes"
      ]
     },
     "execution_count": 19,
     "metadata": {},
     "output_type": "execute_result"
    }
   ],
   "source": [
    "df_classif = pd.read_csv('play_tennis.csv')\n",
    "df_classif.head(3)"
   ]
  },
  {
   "cell_type": "code",
   "execution_count": 27,
   "id": "4bf12ff5-aec4-4adc-a18f-68a0ba01c278",
   "metadata": {},
   "outputs": [
    {
     "data": {
      "text/plain": [
       "OrdinalEncoder(categories=[['rainy', 'overcast', 'sunny'],\n",
       "                           ['cool', 'mild', 'hot'], ['normal', 'high'],\n",
       "                           [False, True], ['no', 'yes']],\n",
       "               dtype='int32')"
      ]
     },
     "execution_count": 27,
     "metadata": {},
     "output_type": "execute_result"
    }
   ],
   "source": [
    "# Convertendo categorias em números\n",
    "oe = OrdinalEncoder(\n",
    "    categories = [['rainy', 'overcast', 'sunny'],\n",
    "                ['cool', 'mild', 'hot'],\n",
    "                ['normal', 'high'],\n",
    "                [False, True],\n",
    "                ['no', 'yes']\n",
    "               ],\n",
    "    dtype = 'int32'\n",
    ")\n",
    "\n",
    "# Encaixando\n",
    "oe.fit(df_classif)"
   ]
  },
  {
   "cell_type": "code",
   "execution_count": 28,
   "id": "b114425d-a949-4abe-bf91-857f7cc9638e",
   "metadata": {},
   "outputs": [
    {
     "data": {
      "text/html": [
       "<div>\n",
       "<style scoped>\n",
       "    .dataframe tbody tr th:only-of-type {\n",
       "        vertical-align: middle;\n",
       "    }\n",
       "\n",
       "    .dataframe tbody tr th {\n",
       "        vertical-align: top;\n",
       "    }\n",
       "\n",
       "    .dataframe thead th {\n",
       "        text-align: right;\n",
       "    }\n",
       "</style>\n",
       "<table border=\"1\" class=\"dataframe\">\n",
       "  <thead>\n",
       "    <tr style=\"text-align: right;\">\n",
       "      <th></th>\n",
       "      <th>outlook</th>\n",
       "      <th>temp</th>\n",
       "      <th>humidity</th>\n",
       "      <th>windy</th>\n",
       "      <th>play</th>\n",
       "    </tr>\n",
       "  </thead>\n",
       "  <tbody>\n",
       "    <tr>\n",
       "      <th>0</th>\n",
       "      <td>2</td>\n",
       "      <td>2</td>\n",
       "      <td>1</td>\n",
       "      <td>0</td>\n",
       "      <td>0</td>\n",
       "    </tr>\n",
       "    <tr>\n",
       "      <th>1</th>\n",
       "      <td>2</td>\n",
       "      <td>2</td>\n",
       "      <td>1</td>\n",
       "      <td>1</td>\n",
       "      <td>0</td>\n",
       "    </tr>\n",
       "    <tr>\n",
       "      <th>2</th>\n",
       "      <td>1</td>\n",
       "      <td>2</td>\n",
       "      <td>1</td>\n",
       "      <td>0</td>\n",
       "      <td>1</td>\n",
       "    </tr>\n",
       "  </tbody>\n",
       "</table>\n",
       "</div>"
      ],
      "text/plain": [
       "   outlook  temp  humidity  windy  play\n",
       "0        2     2         1      0     0\n",
       "1        2     2         1      1     0\n",
       "2        1     2         1      0     1"
      ]
     },
     "execution_count": 28,
     "metadata": {},
     "output_type": "execute_result"
    }
   ],
   "source": [
    "# Criando o DataFrame a partir dos dados\n",
    "df_num = pd.DataFrame(\n",
    "    data = oe.transform(df_classif),\n",
    "    columns = df_classif.columns\n",
    ")\n",
    "\n",
    "df_num.head(3)"
   ]
  },
  {
   "cell_type": "code",
   "execution_count": 32,
   "id": "d0c62567-eebe-4b0a-98b4-4d1d2900462e",
   "metadata": {},
   "outputs": [],
   "source": [
    "# Separando para predição\n",
    "X = df_num.drop(['play'], axis=1)\n",
    "y = df_num['play']"
   ]
  },
  {
   "cell_type": "code",
   "execution_count": 33,
   "id": "e15952f2-2d3e-4253-9346-a2437910b622",
   "metadata": {},
   "outputs": [
    {
     "data": {
      "text/plain": [
       "DecisionTreeClassifier(max_depth=2)"
      ]
     },
     "execution_count": 33,
     "metadata": {},
     "output_type": "execute_result"
    }
   ],
   "source": [
    "# Criando a decision tree\n",
    "dt = DecisionTreeClassifier(max_depth=2)\n",
    "\n",
    "# Treinando o modelo\n",
    "dt.fit(X,y)"
   ]
  },
  {
   "cell_type": "code",
   "execution_count": 43,
   "id": "7251ceb3-2f7b-4c34-8952-311a72dfda6c",
   "metadata": {},
   "outputs": [
    {
     "data": {
      "image/png": "[encoded data removed]",
      "text/plain": [
       "<Figure size 432x288 with 1 Axes>"
      ]
     },
     "metadata": {
      "needs_background": "light"
     },
     "output_type": "display_data"
    }
   ],
   "source": [
    "# Exibindo a árvore gerada\n",
    "_ = plot_tree(\n",
    "    dt, \n",
    "    feature_names=X.columns,\n",
    "    class_names=['no', 'yes']\n",
    ")"
   ]
  },
  {
   "cell_type": "markdown",
   "id": "699c9740-873e-4dd3-aa6f-be0c41dfee63",
   "metadata": {},
   "source": [
    "## Testando no Iris"
   ]
  },
  {
   "cell_type": "code",
   "execution_count": 95,
   "id": "46b3af21-fd52-4aa8-a621-f1d83a0604cb",
   "metadata": {},
   "outputs": [],
   "source": [
    "# Carregando\n",
    "X, y = load_iris(return_X_y=True)\n",
    "dataset = load_iris()"
   ]
  },
  {
   "cell_type": "code",
   "execution_count": 96,
   "id": "610d3050-51c8-4d04-9f5e-8aa62bf3aa3b",
   "metadata": {},
   "outputs": [
    {
     "data": {
      "text/plain": [
       "(90, 60)"
      ]
     },
     "execution_count": 96,
     "metadata": {},
     "output_type": "execute_result"
    }
   ],
   "source": [
    "# Dividindo a base\n",
    "X_train, X_test, y_train, y_test = train_test_split(\n",
    "    X, y,\n",
    "    test_size=0.4,\n",
    "    random_state=42 \n",
    ")\n",
    "\n",
    "len(X_train), len(X_test)"
   ]
  },
  {
   "cell_type": "code",
   "execution_count": 97,
   "id": "e10e0e94-22d7-46fe-897b-31ea9569ebfb",
   "metadata": {},
   "outputs": [
    {
     "data": {
      "image/png": "[encoded data removed]",
      "text/plain": [
       "<Figure size 432x288 with 1 Axes>"
      ]
     },
     "metadata": {
      "needs_background": "light"
     },
     "output_type": "display_data"
    }
   ],
   "source": [
    "# Criando a árvore\n",
    "dt = DecisionTreeClassifier(max_depth=2)\n",
    "dt.fit(X_train, y_train)\n",
    "_ = plot_tree(\n",
    "    dt,\n",
    "    feature_names=dataset.feature_names,\n",
    "    class_names=dataset.target_names\n",
    ")"
   ]
  },
  {
   "cell_type": "code",
   "execution_count": 89,
   "id": "f076903d-a7e8-40c9-b278-8ef4496e9be0",
   "metadata": {},
   "outputs": [
    {
     "data": {
      "text/plain": [
       "array([1, 0, 2, 1, 1, 0, 1, 2, 1, 1, 2, 0, 0, 0, 0, 1, 2, 1, 1, 2, 0, 2,\n",
       "       0, 2, 2, 2, 2, 2, 0, 0, 0, 0, 1, 0, 0, 2, 1, 0, 0, 0, 2, 1, 1, 0,\n",
       "       0, 1, 1, 2, 1, 2, 1, 2, 1, 0, 2, 1, 0, 0, 0, 1])"
      ]
     },
     "execution_count": 89,
     "metadata": {},
     "output_type": "execute_result"
    }
   ],
   "source": [
    "# Predizendo valores\n",
    "y_pred = dt.predict(X_test)\n",
    "y_pred"
   ]
  },
  {
   "cell_type": "code",
   "execution_count": 90,
   "id": "eff9a60d-af94-40fa-bc71-2b2d3723a175",
   "metadata": {},
   "outputs": [
    {
     "data": {
      "text/plain": [
       "0.9833333333333333"
      ]
     },
     "execution_count": 90,
     "metadata": {},
     "output_type": "execute_result"
    }
   ],
   "source": [
    "# Testando erros e acertos\n",
    "np.mean(y_test == y_pred) "
   ]
  },
  {
   "cell_type": "code",
   "execution_count": 99,
   "id": "7a1a9ba0-ae64-4c84-a6d1-42f0d62c6bfa",
   "metadata": {},
   "outputs": [
    {
     "data": {
      "text/plain": [
       "array([[0.        , 0.88235294, 0.11764706],\n",
       "       [1.        , 0.        , 0.        ],\n",
       "       [0.        , 0.03448276, 0.96551724],\n",
       "       [0.        , 0.88235294, 0.11764706],\n",
       "       [0.        , 0.88235294, 0.11764706],\n",
       "       [1.        , 0.        , 0.        ],\n",
       "       [0.        , 0.88235294, 0.11764706],\n",
       "       [0.        , 0.03448276, 0.96551724],\n",
       "       [0.        , 0.88235294, 0.11764706],\n",
       "       [0.        , 0.88235294, 0.11764706],\n",
       "       [0.        , 0.03448276, 0.96551724],\n",
       "       [1.        , 0.        , 0.        ],\n",
       "       [1.        , 0.        , 0.        ],\n",
       "       [1.        , 0.        , 0.        ],\n",
       "       [1.        , 0.        , 0.        ],\n",
       "       [0.        , 0.88235294, 0.11764706],\n",
       "       [0.        , 0.03448276, 0.96551724],\n",
       "       [0.        , 0.88235294, 0.11764706],\n",
       "       [0.        , 0.88235294, 0.11764706],\n",
       "       [0.        , 0.03448276, 0.96551724],\n",
       "       [1.        , 0.        , 0.        ],\n",
       "       [0.        , 0.03448276, 0.96551724],\n",
       "       [1.        , 0.        , 0.        ],\n",
       "       [0.        , 0.03448276, 0.96551724],\n",
       "       [0.        , 0.03448276, 0.96551724],\n",
       "       [0.        , 0.03448276, 0.96551724],\n",
       "       [0.        , 0.03448276, 0.96551724],\n",
       "       [0.        , 0.03448276, 0.96551724],\n",
       "       [1.        , 0.        , 0.        ],\n",
       "       [1.        , 0.        , 0.        ],\n",
       "       [1.        , 0.        , 0.        ],\n",
       "       [1.        , 0.        , 0.        ],\n",
       "       [0.        , 0.88235294, 0.11764706],\n",
       "       [1.        , 0.        , 0.        ],\n",
       "       [1.        , 0.        , 0.        ],\n",
       "       [0.        , 0.03448276, 0.96551724],\n",
       "       [0.        , 0.88235294, 0.11764706],\n",
       "       [1.        , 0.        , 0.        ],\n",
       "       [1.        , 0.        , 0.        ],\n",
       "       [1.        , 0.        , 0.        ],\n",
       "       [0.        , 0.03448276, 0.96551724],\n",
       "       [0.        , 0.88235294, 0.11764706],\n",
       "       [0.        , 0.88235294, 0.11764706],\n",
       "       [1.        , 0.        , 0.        ],\n",
       "       [1.        , 0.        , 0.        ],\n",
       "       [0.        , 0.88235294, 0.11764706],\n",
       "       [0.        , 0.88235294, 0.11764706],\n",
       "       [0.        , 0.03448276, 0.96551724],\n",
       "       [0.        , 0.88235294, 0.11764706],\n",
       "       [0.        , 0.03448276, 0.96551724],\n",
       "       [0.        , 0.88235294, 0.11764706],\n",
       "       [0.        , 0.03448276, 0.96551724],\n",
       "       [0.        , 0.88235294, 0.11764706],\n",
       "       [1.        , 0.        , 0.        ],\n",
       "       [0.        , 0.03448276, 0.96551724],\n",
       "       [0.        , 0.88235294, 0.11764706],\n",
       "       [1.        , 0.        , 0.        ],\n",
       "       [1.        , 0.        , 0.        ],\n",
       "       [1.        , 0.        , 0.        ],\n",
       "       [0.        , 0.88235294, 0.11764706]])"
      ]
     },
     "execution_count": 99,
     "metadata": {},
     "output_type": "execute_result"
    }
   ],
   "source": [
    "# Testando probabilidades\n",
    "dt.predict_proba(X_test)"
   ]
  }
 ],
 "metadata": {
  "kernelspec": {
   "display_name": "Python 3",
   "language": "python",
   "name": "python3"
  },
  "language_info": {
   "codemirror_mode": {
    "name": "ipython",
    "version": 3
   },
   "file_extension": ".py",
   "mimetype": "text/x-python",
   "name": "python",
   "nbconvert_exporter": "python",
   "pygments_lexer": "ipython3",
   "version": "3.8.8"
  }
 },
 "nbformat": 4,
 "nbformat_minor": 5
}
