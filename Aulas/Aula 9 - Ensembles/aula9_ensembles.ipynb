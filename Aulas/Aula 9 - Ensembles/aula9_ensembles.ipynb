{
 "cells": [
  {
   "cell_type": "code",
   "execution_count": 1,
   "id": "8e669b49-8915-4c1d-b9ab-ebf6dedbb993",
   "metadata": {},
   "outputs": [],
   "source": [
    "import numpy as np\n",
    "import pandas as pd\n",
    "\n",
    "from sklearn.datasets import load_boston\n",
    "from sklearn.model_selection import train_test_split\n",
    "from sklearn.neighbors import KNeighborsRegressor\n",
    "from sklearn.tree import DecisionTreeRegressor\n",
    "from sklearn.metrics import mean_absolute_error\n",
    "from sklearn.preprocessing import StandardScaler"
   ]
  },
  {
   "cell_type": "markdown",
   "id": "d2fc169d-fb19-4f65-8ab9-23887e7afebb",
   "metadata": {},
   "source": [
    "## Trabalhando o Dataset"
   ]
  },
  {
   "cell_type": "code",
   "execution_count": 15,
   "id": "0163c1ca-edcd-4290-b164-3a1fea5f24da",
   "metadata": {},
   "outputs": [
    {
     "data": {
      "text/plain": [
       "((506, 13), (506,), 379, 127)"
      ]
     },
     "execution_count": 15,
     "metadata": {},
     "output_type": "execute_result"
    }
   ],
   "source": [
    "# Carregando o Dataset\n",
    "X, y = load_boston(return_X_y=True)\n",
    "\n",
    "# Separando o Dataset\n",
    "X_train, X_test, y_train, y_test = train_test_split(\n",
    "    X, y,\n",
    "    test_size=0.25,\n",
    "    random_state=42\n",
    ")\n",
    "X.shape, y.shape, len(X_train), len(X_test)"
   ]
  },
  {
   "cell_type": "markdown",
   "id": "c7fae6a6-2ee6-4f80-943b-56524eeeb883",
   "metadata": {},
   "source": [
    "## Gerando perturbações, criando e treinando os modelos"
   ]
  },
  {
   "cell_type": "code",
   "execution_count": 22,
   "id": "038fd9ee-bc60-4426-9934-77e76cc8ee6d",
   "metadata": {},
   "outputs": [],
   "source": [
    "scaler = StandardScaler()\n",
    "scaler.fit(X_train)\n",
    "\n",
    "X_train = scaler.transform(X_train)\n",
    "X_test  = scaler.transform(X_test)"
   ]
  },
  {
   "cell_type": "code",
   "execution_count": 50,
   "id": "317935d6-e244-495a-8c62-5c93c1521a15",
   "metadata": {},
   "outputs": [],
   "source": [
    "df_results = pd.DataFrame(columns=['mae_dt', 'mae_rt', 'mae_knn'])\n",
    "df_dt      = pd.DataFrame()\n",
    "df_rt      = pd.DataFrame()\n",
    "df_knn     = pd.DataFrame()\n",
    "\n",
    "for i in range(100):\n",
    "    # Usa 75% da base para criar amostras sem repetição\n",
    "    # e ignora os outros 25%\n",
    "    X_sample, _, y_sample, _ = train_test_split(\n",
    "        X_train, y_train,\n",
    "        test_size=0.25,\n",
    "        random_state=i\n",
    "    )\n",
    "    \n",
    "    # DT\n",
    "    dt = DecisionTreeRegressor()\n",
    "    dt.fit(X_sample, y_sample)\n",
    "    y_pred_dt = dt.predict(X_test)\n",
    "    df_dt['dt%d' % (i)] = y_pred_dt\n",
    "    mae_dt = mean_absolute_error(y_test, y_pred_dt)\n",
    "\n",
    "    # RT\n",
    "    rt = DecisionTreeRegressor(max_features='sqrt', random_state=i)\n",
    "    rt.fit(X_sample, y_sample)\n",
    "    y_pred_rt = rt.predict(X_test)\n",
    "    df_rt['rt%d' % (i)] = y_pred_rt\n",
    "    mae_rt = mean_absolute_error(y_test, y_pred_rt)\n",
    "    \n",
    "    # KNN\n",
    "    knn = KNeighborsRegressor()\n",
    "    knn.fit(X_sample, y_sample)\n",
    "    y_pred_knn = knn.predict(X_test)\n",
    "    df_knn['knn%d' % (i)] = y_pred_knn\n",
    "    mae_knn = mean_absolute_error(y_test, y_pred_knn)\n",
    "    \n",
    "    df_results.loc[i] = [mae_dt, mae_rt, mae_knn]"
   ]
  },
  {
   "cell_type": "code",
   "execution_count": 51,
   "id": "cfd00878-7e11-4de3-8fa1-98370404eb67",
   "metadata": {},
   "outputs": [
    {
     "data": {
      "text/plain": [
       "(mae_dt     2.964953\n",
       " mae_rt     3.284087\n",
       " mae_knn    2.732803\n",
       " dtype: float64,\n",
       " 22.532806324110677)"
      ]
     },
     "execution_count": 51,
     "metadata": {},
     "output_type": "execute_result"
    }
   ],
   "source": [
    "df_results.mean(), np.mean(y)"
   ]
  },
  {
   "cell_type": "code",
   "execution_count": 53,
   "id": "09b88b51-5eb8-4706-ab82-7664e421e899",
   "metadata": {},
   "outputs": [
    {
     "data": {
      "text/plain": [
       "(0.8597971913935691, 0.7689792319369024, 0.9774417490699154)"
      ]
     },
     "execution_count": 53,
     "metadata": {},
     "output_type": "execute_result"
    }
   ],
   "source": [
    "df_dt.corr().values.mean(), df_rt.corr().values.mean(), df_knn.corr().values.mean() "
   ]
  }
 ],
 "metadata": {
  "kernelspec": {
   "display_name": "Python 3",
   "language": "python",
   "name": "python3"
  },
  "language_info": {
   "codemirror_mode": {
    "name": "ipython",
    "version": 3
   },
   "file_extension": ".py",
   "mimetype": "text/x-python",
   "name": "python",
   "nbconvert_exporter": "python",
   "pygments_lexer": "ipython3",
   "version": "3.8.8"
  }
 },
 "nbformat": 4,
 "nbformat_minor": 5
}
