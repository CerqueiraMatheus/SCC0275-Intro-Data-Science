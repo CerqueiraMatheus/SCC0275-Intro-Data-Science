{
 "cells": [
  {
   "cell_type": "code",
   "execution_count": 1,
   "id": "5684ba6c-ebb5-4b31-801c-19b4fe135cec",
   "metadata": {},
   "outputs": [],
   "source": [
    "import numpy as np\n",
    "import pandas as pd\n",
    "import seaborn as sns"
   ]
  },
  {
   "cell_type": "markdown",
   "id": "02c48493-b817-410f-a6aa-baf80c675321",
   "metadata": {},
   "source": [
    "# Revisando entropia"
   ]
  },
  {
   "cell_type": "code",
   "execution_count": 2,
   "id": "8acfa7ea-4486-4ee5-92cc-81c279cf9d68",
   "metadata": {},
   "outputs": [],
   "source": [
    "# Entropia binária\n",
    "def entropy_bin(p0, p1):\n",
    "    return - (p0 * np.log2(p0) + p1 * np.log2(p1))"
   ]
  },
  {
   "cell_type": "code",
   "execution_count": 3,
   "id": "90fd78ab-d520-4656-a8e6-d71f098fb820",
   "metadata": {},
   "outputs": [],
   "source": [
    "p0_vals = np.arange(0.0001, 0.9999, 0.001)\n",
    "p1_vals = 1.0 - p0_vals\n",
    "\n",
    "# Calculando diferentes entropias\n",
    "H_vals = []\n",
    "for i in range(len(p1_vals)):\n",
    "    H = entropy_bin(p0=p0_vals[i], p1=p1_vals[i])\n",
    "    H_vals.append(H)"
   ]
  },
  {
   "cell_type": "code",
   "execution_count": 4,
   "id": "14da0e3f-e201-4ac1-96ca-05c2064bda2c",
   "metadata": {},
   "outputs": [
    {
     "data": {
      "text/plain": [
       "<AxesSubplot:>"
      ]
     },
     "execution_count": 4,
     "metadata": {},
     "output_type": "execute_result"
    },
    {
     "data": {
      "image/png": "[encoded data removed]",
      "text/plain": [
       "<Figure size 432x288 with 1 Axes>"
      ]
     },
     "metadata": {
      "needs_background": "light"
     },
     "output_type": "display_data"
    }
   ],
   "source": [
    "sns.lineplot(x=p0_vals, y=H_vals)"
   ]
  },
  {
   "cell_type": "markdown",
   "id": "c0ab2ed3-dd52-4d88-a13d-fe7ed64c592c",
   "metadata": {},
   "source": [
    "# Aplicando regressão com árvores"
   ]
  },
  {
   "cell_type": "code",
   "execution_count": 5,
   "id": "960ba7f0-1e1c-4345-a737-9b7119f97ab2",
   "metadata": {},
   "outputs": [
    {
     "data": {
      "text/html": [
       "<div>\n",
       "<style scoped>\n",
       "    .dataframe tbody tr th:only-of-type {\n",
       "        vertical-align: middle;\n",
       "    }\n",
       "\n",
       "    .dataframe tbody tr th {\n",
       "        vertical-align: top;\n",
       "    }\n",
       "\n",
       "    .dataframe thead th {\n",
       "        text-align: right;\n",
       "    }\n",
       "</style>\n",
       "<table border=\"1\" class=\"dataframe\">\n",
       "  <thead>\n",
       "    <tr style=\"text-align: right;\">\n",
       "      <th></th>\n",
       "      <th>outlook</th>\n",
       "      <th>temp</th>\n",
       "      <th>humidity</th>\n",
       "      <th>windy</th>\n",
       "      <th>hours_played</th>\n",
       "    </tr>\n",
       "  </thead>\n",
       "  <tbody>\n",
       "    <tr>\n",
       "      <th>0</th>\n",
       "      <td>sunny</td>\n",
       "      <td>hot</td>\n",
       "      <td>high</td>\n",
       "      <td>False</td>\n",
       "      <td>26</td>\n",
       "    </tr>\n",
       "    <tr>\n",
       "      <th>1</th>\n",
       "      <td>sunny</td>\n",
       "      <td>hot</td>\n",
       "      <td>high</td>\n",
       "      <td>True</td>\n",
       "      <td>30</td>\n",
       "    </tr>\n",
       "    <tr>\n",
       "      <th>2</th>\n",
       "      <td>overcast</td>\n",
       "      <td>hot</td>\n",
       "      <td>high</td>\n",
       "      <td>False</td>\n",
       "      <td>48</td>\n",
       "    </tr>\n",
       "  </tbody>\n",
       "</table>\n",
       "</div>"
      ],
      "text/plain": [
       "    outlook temp humidity  windy  hours_played\n",
       "0     sunny  hot     high  False            26\n",
       "1     sunny  hot     high   True            30\n",
       "2  overcast  hot     high  False            48"
      ]
     },
     "execution_count": 5,
     "metadata": {},
     "output_type": "execute_result"
    }
   ],
   "source": [
    "df = pd.read_csv('play_tennis_reg.csv')\n",
    "df.head(3)"
   ]
  },
  {
   "cell_type": "code",
   "execution_count": 23,
   "id": "335a429b-d7b3-428c-9470-baa3a7a34a2d",
   "metadata": {},
   "outputs": [],
   "source": [
    "df1 = df[df['windy'] == True]\n",
    "df0 = df[df['windy'] != True]"
   ]
  },
  {
   "cell_type": "code",
   "execution_count": 28,
   "id": "528cd9f3-0c5c-4dc3-abaf-b03c2b5a93f9",
   "metadata": {},
   "outputs": [],
   "source": [
    "# Hora\n",
    "y_vals = np.float32(df['hours_played'])\n",
    "\n",
    "# Grupos\n",
    "group_windy = np.int8(df['windy'] == True)\n",
    "group_humidity = np.int8(df['humidity'] == 'high')"
   ]
  },
  {
   "cell_type": "code",
   "execution_count": 29,
   "id": "4b935096-0250-4f65-a756-a8028e8421d1",
   "metadata": {},
   "outputs": [],
   "source": [
    "def var_split(y, group):\n",
    "    ratio0 = np.mean(group == 0)\n",
    "    ratio1 = np.mean(group == 1)\n",
    "    \n",
    "    var0 = np.var(y[group == 0])\n",
    "    var1 = np.var(y[group == 1])\n",
    "    \n",
    "    return ratio0 * var0 + ratio1 * var1"
   ]
  },
  {
   "cell_type": "code",
   "execution_count": 27,
   "id": "dd8b4a87-a1d2-4e73-aab3-062ce29f88d6",
   "metadata": {},
   "outputs": [
    {
     "data": {
      "text/plain": [
       "84.23809487479073"
      ]
     },
     "execution_count": 27,
     "metadata": {},
     "output_type": "execute_result"
    }
   ],
   "source": [
    "# Windy\n",
    "var_split(y_vals, group_windy)"
   ]
  },
  {
   "cell_type": "code",
   "execution_count": 30,
   "id": "c386f182-b1aa-42ca-b0b5-dcba69c2f7a1",
   "metadata": {},
   "outputs": [
    {
     "data": {
      "text/plain": [
       "84.2448959350586"
      ]
     },
     "execution_count": 30,
     "metadata": {},
     "output_type": "execute_result"
    }
   ],
   "source": [
    "# Humidity\n",
    "var_split(y_vals, group_humidity)"
   ]
  },
  {
   "cell_type": "markdown",
   "id": "c726f44c-60dd-4cc7-b664-894619d41460",
   "metadata": {},
   "source": [
    "# Generalizando"
   ]
  },
  {
   "cell_type": "code",
   "execution_count": 35,
   "id": "99ff11cb-aa79-4ffd-9ffa-73878d172ffa",
   "metadata": {},
   "outputs": [
    {
     "data": {
      "text/html": [
       "<div>\n",
       "<style scoped>\n",
       "    .dataframe tbody tr th:only-of-type {\n",
       "        vertical-align: middle;\n",
       "    }\n",
       "\n",
       "    .dataframe tbody tr th {\n",
       "        vertical-align: top;\n",
       "    }\n",
       "\n",
       "    .dataframe thead th {\n",
       "        text-align: right;\n",
       "    }\n",
       "</style>\n",
       "<table border=\"1\" class=\"dataframe\">\n",
       "  <thead>\n",
       "    <tr style=\"text-align: right;\">\n",
       "      <th></th>\n",
       "      <th>outlook</th>\n",
       "      <th>temp</th>\n",
       "      <th>humidity</th>\n",
       "      <th>windy</th>\n",
       "    </tr>\n",
       "  </thead>\n",
       "  <tbody>\n",
       "    <tr>\n",
       "      <th>0</th>\n",
       "      <td>sunny</td>\n",
       "      <td>hot</td>\n",
       "      <td>high</td>\n",
       "      <td>False</td>\n",
       "    </tr>\n",
       "    <tr>\n",
       "      <th>1</th>\n",
       "      <td>sunny</td>\n",
       "      <td>hot</td>\n",
       "      <td>high</td>\n",
       "      <td>True</td>\n",
       "    </tr>\n",
       "    <tr>\n",
       "      <th>2</th>\n",
       "      <td>overcast</td>\n",
       "      <td>hot</td>\n",
       "      <td>high</td>\n",
       "      <td>False</td>\n",
       "    </tr>\n",
       "  </tbody>\n",
       "</table>\n",
       "</div>"
      ],
      "text/plain": [
       "    outlook temp humidity  windy\n",
       "0     sunny  hot     high  False\n",
       "1     sunny  hot     high   True\n",
       "2  overcast  hot     high  False"
      ]
     },
     "execution_count": 35,
     "metadata": {},
     "output_type": "execute_result"
    }
   ],
   "source": [
    "# Editando o DF para remover as horas jogadas\n",
    "df_X = df.drop(['hours_played'], axis=1)\n",
    "df_X.head(3)"
   ]
  },
  {
   "cell_type": "markdown",
   "id": "e91a2f85-3da6-4751-baab-cd4a1bfc3ae7",
   "metadata": {},
   "source": [
    "## Trabalhando os melhores splits"
   ]
  },
  {
   "cell_type": "code",
   "execution_count": 58,
   "id": "8859bc83-9465-494f-8760-e2011a72be27",
   "metadata": {},
   "outputs": [],
   "source": [
    "# Melhor split\n",
    "def best_split(X, y):\n",
    "    \n",
    "    ret_col_split = None\n",
    "    ret_val_split = None\n",
    "    ret_var_split = np.var(y)\n",
    "    \n",
    "    # Nomes nas colunas\n",
    "    col_name_list = list(df_X.columns)\n",
    "    \n",
    "    # Percorre as colunas\n",
    "    for column in col_name_list:\n",
    "        \n",
    "        # Transforma as opções da coluna em lista\n",
    "        col_vals = list(X[column].unique())\n",
    "        \n",
    "        # Caso seja \"binária\"\n",
    "        if len(col_vals) == 2:\n",
    "            col_vals.pop()\n",
    "        \n",
    "        # Exibe as opções\n",
    "        for value in col_vals:\n",
    "            \n",
    "            # Grupo\n",
    "            group = np.int8(X[column] == value)\n",
    "    \n",
    "            # Variância\n",
    "            var_aux = var_split(y, group)\n",
    "            \n",
    "            # Atualiza se for a melhor escolha\n",
    "            if var_aux < ret_var_split:\n",
    "                ret_col_split = column\n",
    "                ret_val_split = value\n",
    "                ret_var_split = var_aux\n",
    "            \n",
    "    return ret_col_split, ret_val_split, ret_var_split"
   ]
  },
  {
   "cell_type": "code",
   "execution_count": 59,
   "id": "0e96a2cd-a93e-414c-af57-b291cc856457",
   "metadata": {},
   "outputs": [
    {
     "data": {
      "text/plain": [
       "('outlook', 'overcast', 71.3749989100865)"
      ]
     },
     "execution_count": 59,
     "metadata": {},
     "output_type": "execute_result"
    }
   ],
   "source": [
    "best_split(df_X, y_vals)"
   ]
  },
  {
   "cell_type": "code",
   "execution_count": 62,
   "id": "b2c17f9c-8782-4942-8d0a-b6b10d629702",
   "metadata": {},
   "outputs": [],
   "source": [
    "df1 = df[df['outlook'] == 'overcast']\n",
    "df0 = df[df['outlook'] != 'overcast']"
   ]
  },
  {
   "cell_type": "code",
   "execution_count": 63,
   "id": "4e492f30-7b76-4bff-8bbd-8ca51a248d9c",
   "metadata": {},
   "outputs": [
    {
     "data": {
      "text/plain": [
       "('humidity', 'high', 2.125)"
      ]
     },
     "execution_count": 63,
     "metadata": {},
     "output_type": "execute_result"
    }
   ],
   "source": [
    "df1_X = df1.drop(['hours_played'], axis=1)\n",
    "y1 = np.float32(df1['hours_played'])\n",
    "\n",
    "best_split(df1_X, y1)"
   ]
  }
 ],
 "metadata": {
  "kernelspec": {
   "display_name": "Python 3",
   "language": "python",
   "name": "python3"
  },
  "language_info": {
   "codemirror_mode": {
    "name": "ipython",
    "version": 3
   },
   "file_extension": ".py",
   "mimetype": "text/x-python",
   "name": "python",
   "nbconvert_exporter": "python",
   "pygments_lexer": "ipython3",
   "version": "3.8.8"
  }
 },
 "nbformat": 4,
 "nbformat_minor": 5
}
